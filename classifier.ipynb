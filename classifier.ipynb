{
 "cells": [
  {
   "cell_type": "markdown",
   "metadata": {},
   "source": [
    "# 3F8 Binary Classifier #\n",
    "\n",
    "This notebook is my implementation of the 3F8 coursework. A few of the plotting functions are adapted versions of those provided in the supplementary code.\n"
   ]
  },
  {
   "cell_type": "markdown",
   "metadata": {},
   "source": [
    "## The Data ##\n",
    "\n",
    "We start by importing the required modules as well as the data"
   ]
  },
  {
   "cell_type": "code",
   "execution_count": 21,
   "metadata": {},
   "outputs": [],
   "source": [
    "import numpy as np\n",
    "import matplotlib.pyplot as plt\n",
    "import sklearn.model_selection as sk"
   ]
  },
  {
   "cell_type": "code",
   "execution_count": 22,
   "metadata": {},
   "outputs": [],
   "source": [
    "X = np.loadtxt('X.txt')\n",
    "Y = np.loadtxt('Y.txt')"
   ]
  },
  {
   "cell_type": "code",
   "execution_count": 23,
   "metadata": {},
   "outputs": [
    {
     "data": {
      "text/plain": [
       "(1000, 2)"
      ]
     },
     "execution_count": 23,
     "metadata": {},
     "output_type": "execute_result"
    }
   ],
   "source": [
    "X.shape"
   ]
  },
  {
   "cell_type": "code",
   "execution_count": 24,
   "metadata": {},
   "outputs": [
    {
     "data": {
      "text/plain": [
       "(1000,)"
      ]
     },
     "execution_count": 24,
     "metadata": {},
     "output_type": "execute_result"
    }
   ],
   "source": [
    "Y.shape"
   ]
  },
  {
   "cell_type": "markdown",
   "metadata": {},
   "source": [
    "The data consist of 1000 2D data points, X, and 1000 associated labels, Y."
   ]
  },
  {
   "cell_type": "code",
   "execution_count": 197,
   "metadata": {},
   "outputs": [
    {
     "data": {
      "text/plain": [
       "array([0., 1.])"
      ]
     },
     "execution_count": 197,
     "metadata": {},
     "output_type": "execute_result"
    }
   ],
   "source": [
    "np.unique(Y)"
   ]
  },
  {
   "cell_type": "markdown",
   "metadata": {},
   "source": [
    "As expected, the data is binary, i.e. there are two classes."
   ]
  },
  {
   "cell_type": "code",
   "execution_count": 45,
   "metadata": {},
   "outputs": [
    {
     "data": {
      "image/png": "[encoded data removed]",
      "text/plain": [
       "<Figure size 432x288 with 1 Axes>"
      ]
     },
     "metadata": {
      "needs_background": "light"
     },
     "output_type": "display_data"
    }
   ],
   "source": [
    "def plot_classes_2D(x, y, c):\n",
    "    \"\"\"\n",
    "        Produces a labelled scatter plot of 2D data\n",
    "        \n",
    "        Inputs: X - an (Nx2) array of datapoints\n",
    "                Y - a length N array of associated labels\n",
    "                c - a length 2 array of matplotlib colour codes\n",
    "                \n",
    "        Outputs: None\n",
    "    \"\"\"\n",
    "    ax = plt.gca()\n",
    "    for index, label in enumerate(np.unique(y)):\n",
    "        x1 = [x[i,0] for i in range(x.shape[0]) if y[i] == label]\n",
    "        x2 = [x[j,1] for j in range(x.shape[0]) if y[j] == label]\n",
    "        ax.scatter(x1, x2, c=colours[index], label='Class: '+str(int(label)))\n",
    "    plt.xlabel('X1')\n",
    "    plt.ylabel('X2')\n",
    "    plt.legend()\n",
    "\n",
    "colours = ['r', 'b']\n",
    "plot_classes_2D(X, Y, c)"
   ]
  },
  {
   "cell_type": "markdown",
   "metadata": {},
   "source": [
    "The data clearly has a very non-linear decision boundary, and so a logistic regression using only the linear input data is unlikely to perform well."
   ]
  },
  {
   "cell_type": "markdown",
   "metadata": {},
   "source": [
    "## Training a basic logistic model ##\n",
    "First we define some useful functions for the training"
   ]
  },
  {
   "cell_type": "code",
   "execution_count": 228,
   "metadata": {},
   "outputs": [
    {
     "ename": "IndentationError",
     "evalue": "unindent does not match any outer indentation level (<tokenize>, line 42)",
     "output_type": "error",
     "traceback": [
      "\u001b[0;36m  File \u001b[0;32m\"<tokenize>\"\u001b[0;36m, line \u001b[0;32m42\u001b[0m\n\u001b[0;31m    dot_prod = np.matmul(x, beta)\u001b[0m\n\u001b[0m    ^\u001b[0m\n\u001b[0;31mIndentationError\u001b[0m\u001b[0;31m:\u001b[0m unindent does not match any outer indentation level\n"
     ]
    }
   ],
   "source": [
    "def logistic(z):\n",
    "    \"\"\"\n",
    "        Sigmoid function\n",
    "        \n",
    "        Inputs: z - a numerical input to the function\n",
    "        Output: sigmoid\n",
    "    \"\"\"\n",
    "    return 1. / (1. + np.exp(-1*z))\n",
    "\n",
    "def create_X_tilde(x):\n",
    "    \"\"\"\n",
    "        Prepends a column of 1's to the array X\n",
    "        \n",
    "        Inputs: x - array of 2D data to form x_tilde\n",
    "        Output: x_tilde\n",
    "    \"\"\"\n",
    "    ones = np.ones((x.shape[0], 1))\n",
    "    return np.concatenate((ones, x), axis=1)\n",
    "\n",
    "def calc_grad(beta, x, y):\n",
    "    \"\"\"\n",
    "    Computes the numerical expression derived elsewhere for the grad of the log-likelihood\n",
    "\n",
    "    Inputs: beta - current weight values\n",
    "            x - x_tilde, i.e. data array x with column of 1's prepended\n",
    "            y - class labels for x\n",
    "    Output: Grad\n",
    "    \"\"\"\n",
    "    dot_prod = np.matmul(x, beta)\n",
    "    sigmas = logistic(dot_prod)\n",
    "    return np.dot(x.T, (np.multiply(y, 1-sigmas) + np.multiply(1-y, sigmas)))\n",
    "\n",
    "def calc_likelihood(beta, x, y):\n",
    "     \"\"\"\n",
    "        Computes the numerical expression derived elsewhere for the log-likelihood\n",
    "        \n",
    "        Inputs: beta - current weight values\n",
    "                x - x_tilde, i.e. data array x with column of 1's prepended\n",
    "                y - class labels for x\n",
    "        Output: log-likelihood\n",
    "    \"\"\"\n",
    "    dot_prod = np.matmul(x, beta)\n",
    "    sigmas = logistic(dot_prod)\n",
    "    return np.dot(y.T, sigmas) + np.dot((1-y).T, (1-sigmas).T)\n",
    "\n",
    "  "
   ]
  },
  {
   "cell_type": "markdown",
   "metadata": {},
   "source": [
    "We use scikitlearn to randomly split the data for testing purposes"
   ]
  },
  {
   "cell_type": "code",
   "execution_count": 239,
   "metadata": {},
   "outputs": [],
   "source": [
    "X_train, X_test, Y_train, Y_test = sk.train_test_split(X, Y, train_size=0.8)\n",
    "X_tilde_train = create_X_tilde(X_train)\n",
    "X_tilde_test = create_X_tilde(X_test)"
   ]
  },
  {
   "cell_type": "markdown",
   "metadata": {},
   "source": [
    "The basic process for training our beta is gradient ascent. We update beta after each iteration to be it's old value plus the scaled grad at that location"
   ]
  },
  {
   "cell_type": "code",
   "execution_count": 246,
   "metadata": {},
   "outputs": [],
   "source": [
    "learning_rate = 0.0001\n",
    "beta = np.random.normal(size=X_tilde.shape[1])\n",
    "steps = 10000\n",
    "likelihoods = np.ones(steps)\n",
    "for i in range(steps):\n",
    "    beta = beta + learning_rate * calc_grad(beta, X_tilde_train, Y_train)\n",
    "    likelihood = calc_likelihood(beta, X_tilde_train, Y_train)\n",
    "    likelihoods[i] = likelihood"
   ]
  },
  {
   "cell_type": "markdown",
   "metadata": {},
   "source": [
    "The choice of learning_rate and steps have largely been trial and error. If the learning rate is too small then beta never converges, if it is too large then it tends to oscillate.\n",
    "Additionally if we choose to use too many steps then beta tends to grow unbouded. This is because in each iteration we add a very small term to beta (which will be non-zero when our choice of learning rate is not good enough). A possible improvement to this is to add a regularisation term to the log-likelihood"
   ]
  },
  {
   "cell_type": "code",
   "execution_count": 247,
   "metadata": {},
   "outputs": [
    {
     "data": {
      "text/plain": [
       "[<matplotlib.lines.Line2D at 0x7fc652344590>]"
      ]
     },
     "execution_count": 247,
     "metadata": {},
     "output_type": "execute_result"
    },
    {
     "data": {
      "image/png": "[encoded data removed]",
      "text/plain": [
       "<Figure size 432x288 with 1 Axes>"
      ]
     },
     "metadata": {
      "needs_background": "light"
     },
     "output_type": "display_data"
    }
   ],
   "source": [
    "axis = np.arange(steps)\n",
    "plt.plot(axis, likelihoods)"
   ]
  },
  {
   "cell_type": "markdown",
   "metadata": {},
   "source": [
    "The log-likelihood converges well."
   ]
  },
  {
   "cell_type": "code",
   "execution_count": 249,
   "metadata": {},
   "outputs": [
    {
     "data": {
      "text/plain": [
       "array([ 407.39806564,   39.73237654, -334.43783177])"
      ]
     },
     "execution_count": 249,
     "metadata": {},
     "output_type": "execute_result"
    }
   ],
   "source": [
    "beta"
   ]
  },
  {
   "cell_type": "code",
   "execution_count": 250,
   "metadata": {},
   "outputs": [],
   "source": [
    "def plot_predictive_distribution(x_tilde, y, betas, map_inputs = lambda x : x):\n",
    "    plot_classes_2D(x_tilde[:,1:], y, colours)\n",
    "    x_min, x_max = X[ :, 0 ].min() - .5, X[ :, 0 ].max() + .5\n",
    "    y_min, y_max = X[ :, 1 ].min() - .5, X[ :, 1 ].max() + .5\n",
    "    xx, yy = np.meshgrid(np.linspace(x_min, x_max, 100), np.linspace(y_min, y_max, 100))\n",
    "    ax = plt.gca()\n",
    "    new_x_tilde = create_X_tilde(map_inputs(np.concatenate((xx.ravel().reshape((-1, 1)), yy.ravel().reshape((-1, 1))), 1)))\n",
    "    Z = logistic(np.dot(new_x_tilde, betas))\n",
    "    Z = Z.reshape(xx.shape)\n",
    "    cs2 = ax.contour(xx, yy, Z, cmap = 'RdBu', linewidths = 2)\n",
    "    plt.clabel(cs2, fmt = '%2.1f', colors = 'k', fontsize = 14)\n",
    "    plt.show()"
   ]
  },
  {
   "cell_type": "code",
   "execution_count": 251,
   "metadata": {},
   "outputs": [
    {
     "data": {
      "image/png": "[encoded data removed]",
      "text/plain": [
       "<Figure size 432x288 with 1 Axes>"
      ]
     },
     "metadata": {
      "needs_background": "light"
     },
     "output_type": "display_data"
    }
   ],
   "source": [
    "plot_predictive_distribution(X_tilde_train, Y_train, beta)"
   ]
  },
  {
   "cell_type": "markdown",
   "metadata": {},
   "source": [
    "As expected, the logistic regression performs very poorly..."
   ]
  },
  {
   "cell_type": "code",
   "execution_count": null,
   "metadata": {},
   "outputs": [],
   "source": []
  }
 ],
 "metadata": {
  "kernelspec": {
   "display_name": "Python 3",
   "language": "python",
   "name": "python3"
  },
  "language_info": {
   "codemirror_mode": {
    "name": "ipython",
    "version": 3
   },
   "file_extension": ".py",
   "mimetype": "text/x-python",
   "name": "python",
   "nbconvert_exporter": "python",
   "pygments_lexer": "ipython3",
   "version": "3.7.6"
  }
 },
 "nbformat": 4,
 "nbformat_minor": 4
}
