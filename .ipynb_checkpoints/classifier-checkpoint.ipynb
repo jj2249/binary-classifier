{
 "cells": [
  {
   "cell_type": "markdown",
   "metadata": {},
   "source": [
    "# 3F8 Binary Classifier #\n",
    "\n",
    "This notebook is my implementation of the 3F8 coursework. A few of the plotting functions are adapted versions of those provided in the supplementary code.\n"
   ]
  },
  {
   "cell_type": "markdown",
   "metadata": {},
   "source": [
    "## The Data ##\n",
    "\n",
    "We start by importing the required modules as well as the data"
   ]
  },
  {
   "cell_type": "code",
   "execution_count": 68,
   "metadata": {},
   "outputs": [],
   "source": [
    "import numpy as np\n",
    "import matplotlib.pyplot as plt\n",
    "import sklearn as sk"
   ]
  },
  {
   "cell_type": "code",
   "execution_count": 69,
   "metadata": {},
   "outputs": [],
   "source": [
    "X = np.loadtxt('X.txt')\n",
    "Y = np.loadtxt('Y.txt')"
   ]
  },
  {
   "cell_type": "code",
   "execution_count": 70,
   "metadata": {},
   "outputs": [
    {
     "data": {
      "text/plain": [
       "(1000, 2)"
      ]
     },
     "execution_count": 70,
     "metadata": {},
     "output_type": "execute_result"
    }
   ],
   "source": [
    "X.shape"
   ]
  },
  {
   "cell_type": "code",
   "execution_count": 71,
   "metadata": {},
   "outputs": [
    {
     "data": {
      "text/plain": [
       "(1000,)"
      ]
     },
     "execution_count": 71,
     "metadata": {},
     "output_type": "execute_result"
    }
   ],
   "source": [
    "Y.shape"
   ]
  },
  {
   "cell_type": "markdown",
   "metadata": {},
   "source": [
    "The data consist of 1000 2D data points, X, and 1000 associated labels, Y."
   ]
  },
  {
   "cell_type": "code",
   "execution_count": 72,
   "metadata": {},
   "outputs": [
    {
     "data": {
      "text/plain": [
       "array([0., 1.])"
      ]
     },
     "execution_count": 72,
     "metadata": {},
     "output_type": "execute_result"
    }
   ],
   "source": [
    "np.unique(Y)"
   ]
  },
  {
   "cell_type": "markdown",
   "metadata": {},
   "source": [
    "As expected, the data is binary, i.e. there are two classes."
   ]
  },
  {
   "cell_type": "code",
   "execution_count": 73,
   "metadata": {},
   "outputs": [
    {
     "data": {
      "image/png": "[encoded data removed]",
      "text/plain": [
       "<Figure size 432x288 with 1 Axes>"
      ]
     },
     "metadata": {
      "needs_background": "light"
     },
     "output_type": "display_data"
    }
   ],
   "source": [
    "def plot_classes_2D(x, y, c):\n",
    "    \"\"\"\n",
    "        Produces a labelled scatter plot of 2D data\n",
    "        \n",
    "        Inputs: X - an (Nx2) array of datapoints\n",
    "                Y - a length N array of associated labels\n",
    "                c - a length 2 array of matplotlib colour codes\n",
    "                \n",
    "        Outputs: None\n",
    "    \"\"\"\n",
    "    ax = plt.gca()\n",
    "    for index, label in enumerate(np.unique(y)):\n",
    "        x1 = [x[i,0] for i in range(x.shape[0]) if y[i] == label]\n",
    "        x2 = [x[j,1] for j in range(x.shape[0]) if y[j] == label]\n",
    "        ax.scatter(x1, x2, c=colours[index], label='Class: '+str(int(label)))\n",
    "    plt.xlabel('X1')\n",
    "    plt.ylabel('X2')\n",
    "    plt.legend()\n",
    "\n",
    "colours = ['r', 'b']\n",
    "plot_classes_2D(X, Y, colours)"
   ]
  },
  {
   "cell_type": "markdown",
   "metadata": {},
   "source": [
    "The data clearly has a very non-linear decision boundary, and so a logistic regression using only the linear input data is unlikely to perform well."
   ]
  },
  {
   "cell_type": "markdown",
   "metadata": {},
   "source": [
    "## Training a basic logistic model ##\n",
    "First we define some useful functions for the training"
   ]
  },
  {
   "cell_type": "code",
   "execution_count": 74,
   "metadata": {},
   "outputs": [],
   "source": [
    "def logistic(z):\n",
    "    \"\"\"\n",
    "        Sigmoid function\n",
    "        \n",
    "        Inputs: z - a numerical input to the function\n",
    "        Output: sigmoid\n",
    "    \"\"\"\n",
    "    return 1. / (1. + np.exp(-1*z))\n",
    "\n",
    "def create_X_tilde(x):\n",
    "    \"\"\"\n",
    "        Prepends a column of 1's to the array X\n",
    "        \n",
    "        Inputs: x - array of 2D data to form x_tilde\n",
    "        Output: x_tilde\n",
    "    \"\"\"\n",
    "    ones = np.ones((x.shape[0], 1))\n",
    "    return np.concatenate((ones, x), axis=1)\n",
    "\n",
    "def calc_grad(beta, x, y):\n",
    "    \"\"\"\n",
    "    Computes the numerical expression derived elsewhere for the grad of the log-likelihood\n",
    "\n",
    "    Inputs: beta - current weight values\n",
    "            x - x_tilde, i.e. data array x with column of 1's prepended\n",
    "            y - class labels for x\n",
    "    Output: Grad\n",
    "    \"\"\"\n",
    "    dot_prod = np.matmul(x, beta)\n",
    "    sigmas = logistic(dot_prod)\n",
    "    return np.dot(x.T, (np.multiply(y, 1-sigmas) - np.multiply(1-y, sigmas)))\n",
    "\n",
    "def calc_likelihood(beta, x, y):\n",
    "    \"\"\"\n",
    "        Computes the numerical expression derived elsewhere for the log-likelihood\n",
    "        \n",
    "        Inputs: beta - current weight values\n",
    "                x - x_tilde, i.e. data array x with column of 1's prepended\n",
    "                y - class labels for x\n",
    "        Output: log-likelihood\n",
    "    \"\"\"\n",
    "    dot_prod = np.matmul(x, beta)\n",
    "    sigmas = logistic(dot_prod)\n",
    "    return np.dot(y.T, sigmas) + np.dot((1-y).T, (1-sigmas).T)\n",
    "\n",
    "  "
   ]
  },
  {
   "cell_type": "markdown",
   "metadata": {},
   "source": [
    "We use scikitlearn to randomly split the data for testing purposes"
   ]
  },
  {
   "cell_type": "code",
   "execution_count": 75,
   "metadata": {},
   "outputs": [],
   "source": [
    "X_train, X_test, Y_train, Y_test = sk.model_selection.train_test_split(X, Y, train_size=0.8)\n",
    "X_tilde_train = create_X_tilde(X_train)\n",
    "X_tilde_test = create_X_tilde(X_test)"
   ]
  },
  {
   "cell_type": "markdown",
   "metadata": {},
   "source": [
    "The basic process for training our beta is gradient ascent. We update beta after each iteration to be it's old value plus the scaled grad at that location"
   ]
  },
  {
   "cell_type": "code",
   "execution_count": 76,
   "metadata": {},
   "outputs": [],
   "source": [
    "learning_rate = 0.0001\n",
    "steps = 1000\n",
    "def train_model(x_tilde_train, y_train, x_tilde_test, y_test, alpha, n):\n",
    "    beta = np.random.normal(size=x_tilde_train.shape[1])\n",
    "    lls_train = np.ones(n)\n",
    "    lls_test = np.ones(n)\n",
    "    for i in range(n):\n",
    "        beta = beta + alpha * calc_grad(beta, x_tilde_train, y_train)\n",
    "        ll_train = calc_likelihood(beta, x_tilde_train, y_train)/X_tilde_train.shape[0]\n",
    "        lls_train[i] = ll_train\n",
    "        ll_test = calc_likelihood(beta, x_tilde_test, y_test)/X_tilde_test.shape[0]\n",
    "        lls_test[i] = ll_test\n",
    "    return beta, lls_train, lls_test"
   ]
  },
  {
   "cell_type": "markdown",
   "metadata": {},
   "source": [
    "The choice of learning_rate and steps have largely been trial and error. If the learning rate is too small then beta never converges, if it is too large then it tends to oscillate.\n",
    "Additionally if we choose to use too many steps then beta tends to grow unbouded. This is because in each iteration we add a very small term to beta (which will be non-zero when our choice of learning rate is not good enough). A possible improvement to this is to add a regularisation term to the log-likelihood"
   ]
  },
  {
   "cell_type": "code",
   "execution_count": 77,
   "metadata": {},
   "outputs": [
    {
     "data": {
      "text/plain": [
       "<matplotlib.legend.Legend at 0x7f83b4d7e850>"
      ]
     },
     "execution_count": 77,
     "metadata": {},
     "output_type": "execute_result"
    },
    {
     "data": {
      "image/png": "[encoded data removed]",
      "text/plain": [
       "<Figure size 432x288 with 1 Axes>"
      ]
     },
     "metadata": {
      "needs_background": "light"
     },
     "output_type": "display_data"
    }
   ],
   "source": [
    "betas, likelihoods_train, likelihoods_test = train_model(X_tilde_train, Y_train, X_tilde_test, Y_test, learning_rate, steps)\n",
    "axis = np.arange(steps)\n",
    "plt.plot(axis, likelihoods_train, label='Train')\n",
    "plt.plot(axis, likelihoods_test, label='Test')\n",
    "plt.legend(loc='right')"
   ]
  },
  {
   "cell_type": "markdown",
   "metadata": {},
   "source": [
    "The log-likelihood converges well."
   ]
  },
  {
   "cell_type": "code",
   "execution_count": 78,
   "metadata": {},
   "outputs": [
    {
     "data": {
      "text/plain": [
       "array([ 0.33286905, -0.10074569,  0.81212621])"
      ]
     },
     "execution_count": 78,
     "metadata": {},
     "output_type": "execute_result"
    }
   ],
   "source": [
    "beta"
   ]
  },
  {
   "cell_type": "code",
   "execution_count": 79,
   "metadata": {},
   "outputs": [],
   "source": [
    "def plot_predictive_distribution(x, y, betas, map_inputs = lambda x : x):\n",
    "    plot_classes_2D(x, y, colours)\n",
    "    x_min, x_max = X[ :, 0 ].min() - .5, X[ :, 0 ].max() + .5\n",
    "    y_min, y_max = X[ :, 1 ].min() - .5, X[ :, 1 ].max() + .5\n",
    "    xx, yy = np.meshgrid(np.linspace(x_min, x_max, 100), np.linspace(y_min, y_max, 100))\n",
    "    ax = plt.gca()\n",
    "    new_x_tilde = create_X_tilde(map_inputs(np.concatenate((xx.ravel().reshape((-1, 1)), yy.ravel().reshape((-1, 1))), 1)))\n",
    "    Z = logistic(np.dot(new_x_tilde, betas))\n",
    "    Z = Z.reshape(xx.shape)\n",
    "    cs2 = ax.contour(xx, yy, Z, cmap = 'RdBu', linewidths = 2)\n",
    "    plt.clabel(cs2, fmt = '%2.1f', colors = 'k', fontsize = 14)\n",
    "    plt.show()"
   ]
  },
  {
   "cell_type": "code",
   "execution_count": 80,
   "metadata": {},
   "outputs": [
    {
     "data": {
      "image/png": "[encoded data removed]",
      "text/plain": [
       "<Figure size 432x288 with 1 Axes>"
      ]
     },
     "metadata": {
      "needs_background": "light"
     },
     "output_type": "display_data"
    }
   ],
   "source": [
    "plot_predictive_distribution(X_train, Y_train, beta)"
   ]
  },
  {
   "cell_type": "markdown",
   "metadata": {},
   "source": [
    "The logistic regression performs moderately. It is unable to properly explain the lower class 1 group and so seems to ignore it."
   ]
  },
  {
   "cell_type": "code",
   "execution_count": 95,
   "metadata": {},
   "outputs": [],
   "source": [
    "def predict(X_tilde, beta):\n",
    "    return logistic(np.dot(X_tilde, beta))\n",
    "\n",
    "def decision(probs):\n",
    "    return np.array([prob>0.5 for prob in probs]).astype(int)"
   ]
  },
  {
   "cell_type": "code",
   "execution_count": 104,
   "metadata": {},
   "outputs": [],
   "source": [
    "predictions_train = predict(X_tilde_train, betas)\n",
    "decisions_train = decision(predictions)"
   ]
  },
  {
   "cell_type": "code",
   "execution_count": 105,
   "metadata": {},
   "outputs": [],
   "source": [
    "def confusion_matrix(y_true, y_pred):\n",
    "    return sk.metrics.confusion_matrix(y_true, y_pred)"
   ]
  },
  {
   "cell_type": "code",
   "execution_count": 108,
   "metadata": {},
   "outputs": [
    {
     "data": {
      "text/plain": [
       "array([[0.3675 , 0.14125],\n",
       "       [0.1425 , 0.34875]])"
      ]
     },
     "execution_count": 108,
     "metadata": {},
     "output_type": "execute_result"
    }
   ],
   "source": [
    "confusion_matrix(Y_train , decisions_train)/Y_train.shape"
   ]
  },
  {
   "cell_type": "code",
   "execution_count": null,
   "metadata": {},
   "outputs": [],
   "source": []
  }
 ],
 "metadata": {
  "kernelspec": {
   "display_name": "Python 3",
   "language": "python",
   "name": "python3"
  },
  "language_info": {
   "codemirror_mode": {
    "name": "ipython",
    "version": 3
   },
   "file_extension": ".py",
   "mimetype": "text/x-python",
   "name": "python",
   "nbconvert_exporter": "python",
   "pygments_lexer": "ipython3",
   "version": "3.7.6"
  }
 },
 "nbformat": 4,
 "nbformat_minor": 4
}
